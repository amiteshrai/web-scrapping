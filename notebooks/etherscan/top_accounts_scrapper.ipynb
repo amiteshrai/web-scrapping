{
 "cells": [
  {
   "cell_type": "markdown",
   "id": "87fd44dd-519d-492d-8392-dfed088d5fc6",
   "metadata": {},
   "source": [
    "### Top Accounts Scrapper(Etherscan)"
   ]
  },
  {
   "cell_type": "code",
   "execution_count": 1,
   "id": "03aa9b51-ff89-4818-9beb-79491307c060",
   "metadata": {},
   "outputs": [],
   "source": [
    "import pandas as pd\n",
    "import numpy as np\n",
    "import requests\n",
    "from bs4 import BeautifulSoup\n",
    "from time import sleep\n",
    "from selenium import webdriver"
   ]
  },
  {
   "cell_type": "code",
   "execution_count": 36,
   "id": "439cd19b-d459-488b-ba62-f0fe27269abb",
   "metadata": {},
   "outputs": [
    {
     "name": "stderr",
     "output_type": "stream",
     "text": [
      "/tmp/ipykernel_156228/1320774810.py:3: DeprecationWarning: executable_path has been deprecated, please pass in a Service object\n",
      "  driver = webdriver.Chrome(\"/home/amitesh/Workspace/Learning/Python/web-scrapping/chromedriver/chromedriver\")\n"
     ]
    }
   ],
   "source": [
    "counter = 1\n",
    "top_accounts = []\n",
    "driver = webdriver.Chrome(\"/home/amitesh/Workspace/Learning/Python/web-scrapping/chromedriver/chromedriver\")\n",
    "\n",
    "while counter < 400:\n",
    "    driver.get(f\"https://etherscan.io/accounts/{counter}\")\n",
    "    # driver.maximize_window()\n",
    "    driver.implicitly_wait(5)\n",
    "    driver.execute_script(\"window.scrollTo(0,document.body.scrollHeight)\")\n",
    "\n",
    "    sleep(2)\n",
    "    \n",
    "    rank = driver.find_elements(\"xpath\", '//tbody/tr/td[1]')\n",
    "    addrress = driver.find_elements(\"xpath\", '//tbody/tr/td[2]')\n",
    "    name = driver.find_elements(\"xpath\", '//tbody/tr/td[3]')\n",
    "\n",
    "    for i in range(len(addrress)):\n",
    "        row_data = {\n",
    "            'Address': addrress[i].text,\n",
    "            'Name': name[i].text,\n",
    "            'Rank': rank[i].text,\n",
    "        }\n",
    "        top_accounts.append(row_data)\n",
    "        \n",
    "    counter += 1\n",
    "\n",
    "driver.close()"
   ]
  },
  {
   "cell_type": "code",
   "execution_count": 38,
   "id": "0d911a2d",
   "metadata": {},
   "outputs": [
    {
     "data": {
      "text/html": [
       "<div>\n",
       "<style scoped>\n",
       "    .dataframe tbody tr th:only-of-type {\n",
       "        vertical-align: middle;\n",
       "    }\n",
       "\n",
       "    .dataframe tbody tr th {\n",
       "        vertical-align: top;\n",
       "    }\n",
       "\n",
       "    .dataframe thead th {\n",
       "        text-align: right;\n",
       "    }\n",
       "</style>\n",
       "<table border=\"1\" class=\"dataframe\">\n",
       "  <thead>\n",
       "    <tr style=\"text-align: right;\">\n",
       "      <th></th>\n",
       "      <th>Address</th>\n",
       "      <th>Name</th>\n",
       "      <th>Rank</th>\n",
       "    </tr>\n",
       "  </thead>\n",
       "  <tbody>\n",
       "    <tr>\n",
       "      <th>0</th>\n",
       "      <td>0x00000000219ab540356cbb839cbe05303d7705fa</td>\n",
       "      <td>Beacon Deposit Contract</td>\n",
       "      <td>1</td>\n",
       "    </tr>\n",
       "    <tr>\n",
       "      <th>1</th>\n",
       "      <td>0xc02aaa39b223fe8d0a0e5c4f27ead9083c756cc2</td>\n",
       "      <td>Wrapped Ether</td>\n",
       "      <td>2</td>\n",
       "    </tr>\n",
       "    <tr>\n",
       "      <th>2</th>\n",
       "      <td>0xbe0eb53f46cd790cd13851d5eff43d12404d33e8</td>\n",
       "      <td>Binance 7</td>\n",
       "      <td>3</td>\n",
       "    </tr>\n",
       "    <tr>\n",
       "      <th>3</th>\n",
       "      <td>0xda9dfa130df4de4673b89022ee50ff26f6ea73cf</td>\n",
       "      <td>Kraken 13</td>\n",
       "      <td>4</td>\n",
       "    </tr>\n",
       "    <tr>\n",
       "      <th>4</th>\n",
       "      <td>0x0716a17fbaee714f1e6ab0f9d59edbc5f09815c0</td>\n",
       "      <td>Fund: 0x071...5C0</td>\n",
       "      <td>5</td>\n",
       "    </tr>\n",
       "  </tbody>\n",
       "</table>\n",
       "</div>"
      ],
      "text/plain": [
       "                                      Address                     Name Rank\n",
       "0  0x00000000219ab540356cbb839cbe05303d7705fa  Beacon Deposit Contract    1\n",
       "1  0xc02aaa39b223fe8d0a0e5c4f27ead9083c756cc2            Wrapped Ether    2\n",
       "2  0xbe0eb53f46cd790cd13851d5eff43d12404d33e8                Binance 7    3\n",
       "3  0xda9dfa130df4de4673b89022ee50ff26f6ea73cf                Kraken 13    4\n",
       "4  0x0716a17fbaee714f1e6ab0f9d59edbc5f09815c0        Fund: 0x071...5C0    5"
      ]
     },
     "execution_count": 38,
     "metadata": {},
     "output_type": "execute_result"
    }
   ],
   "source": [
    "df_data=pd.DataFrame(top_accounts)\n",
    "df_data.head()"
   ]
  },
  {
   "cell_type": "code",
   "execution_count": 39,
   "id": "362ed47a-a95a-4604-93ab-e815fe521312",
   "metadata": {},
   "outputs": [
    {
     "data": {
      "text/plain": [
       "(9975, 3)"
      ]
     },
     "execution_count": 39,
     "metadata": {},
     "output_type": "execute_result"
    }
   ],
   "source": [
    "df_data.shape"
   ]
  },
  {
   "cell_type": "code",
   "execution_count": null,
   "id": "cb285ed1-d5a3-48d6-98a7-347bccf361ce",
   "metadata": {},
   "outputs": [],
   "source": []
  }
 ],
 "metadata": {
  "kernelspec": {
   "display_name": "Python 3 (ipykernel)",
   "language": "python",
   "name": "python3"
  },
  "language_info": {
   "codemirror_mode": {
    "name": "ipython",
    "version": 3
   },
   "file_extension": ".py",
   "mimetype": "text/x-python",
   "name": "python",
   "nbconvert_exporter": "python",
   "pygments_lexer": "ipython3",
   "version": "3.10.6"
  },
  "vscode": {
   "interpreter": {
    "hash": "a0b83d15be9710370d7179f7e182eb806acf274afec01cd28cd5e64853a260e6"
   }
  }
 },
 "nbformat": 4,
 "nbformat_minor": 5
}
